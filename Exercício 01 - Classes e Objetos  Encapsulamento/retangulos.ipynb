{
 "cells": [
  {
   "cell_type": "markdown",
   "metadata": {},
   "source": [
    "Crie uma classe Ponto2D com um inicializador que recebe dois parâmetros (x, y) do tipo float, com valor padrão 0.0.\n",
    "\n",
    "Em seguida, crie uma classe Retangulo, que recebe em seu inicializador dois parâmetros (esq_sup, dir_inf) do tipo Ponto2D. Esses parâmetros definem um identificador, o ponto superior esquerdo e o ponto inferior direito do polígono. Esses parâmetros devem ser privados dentro da classe, e acessíveis através de properties* com o mesmo nome.\n",
    "\n",
    "essa mesma classe, declare as seguintes funções públicas:\n",
    "\n",
    "1) 'calcularArea()': Não recebe parâmetros e retorna a área do retângulo.\n",
    "\n",
    "2) 'calcularIntersecao(ret)': Recebe um objeto do tipo Retangulo como parâmetro. O retorno segue as seguintes regras:\n",
    "\n",
    "2.a) Caso não possua interseção com o retângulo informado retorna None;\n",
    "\n",
    "2.b) Caso contrário: retorna o tamanho da área de interseção.\n",
    "\n",
    "A classe também deve possuir duas properties chamadas width e height, que retornam os comprimentos nos eixos X e Y, respectivamente, calculados a partir de esq_sup e dir_inf."
   ]
  },
  {
   "cell_type": "code",
   "execution_count": 6,
   "metadata": {},
   "outputs": [],
   "source": [
    "import math\n",
    "class Ponto2D:\n",
    "    def __init__(self,x=0.0,y=0.0):\n",
    "        self.x = x\n",
    "        self.y = y \n",
    "\n",
    "class Retangulo:\n",
    "    def __init__(self,esq_sup, dir_inf):\n",
    "        self.__esq_sup = esq_sup\n",
    "        self.__dir_inf = dir_inf\n",
    "        \n",
    "    @property\n",
    "    def esq_sup(self):\n",
    "        return self.__esq_sup\n",
    "    \n",
    "    @esq_sup.setter\n",
    "    def set_esq_sup(self,esq_sup):\n",
    "        self.__esq_sup = esq_sup\n",
    "        return self.__esq_sup\n",
    "    \n",
    "    @property\n",
    "    def dir_inf(self):\n",
    "        return self.__dir_inf\n",
    "    \n",
    "    @dir_inf.setter\n",
    "    def set_dir_inf(self,dir_inf):\n",
    "        self.__dir_inf = dir_inf\n",
    "        return self.__esq_sup\n",
    "    \n",
    "    @property\n",
    "    def width(self):\n",
    "        return math.sqrt(((self.__esq_sup.x - (self.__dir_inf.x))**2 ))\n",
    "    \n",
    "    @property\n",
    "    def height(self):\n",
    "        return math.sqrt(((self.__dir_inf.y - (self.__esq_sup.y))**2 ))\n",
    "    \n",
    " \n",
    "    \n",
    "    def calcularArea(self):\n",
    "        base =  self.width\n",
    "        altura = self.height\n",
    "        return base*altura\n",
    "    \n",
    "    def calcularIntersecao(self,ret):\n",
    "        ret_arg_esq_sup =  ret.esq_sup\n",
    "        ret_arg_dir_inf=  ret.dir_inf\n",
    "        \n",
    "        max_sup_x = max(self.esq_sup.x,ret_arg_esq_sup.x)\n",
    "        max_sup_y = max(self.esq_sup.y,ret_arg_esq_sup.y)\n",
    "     \n",
    "        \n",
    "        max_dir_inf_x = max(self.dir_inf.x,ret_arg_dir_inf.x)\n",
    "        max_dir_inf_y = max(self.dir_inf.y,ret_arg_dir_inf.y)\n",
    "        \n",
    "        if max_sup_x >= max_dir_inf_x or max_sup_y >=max_dir_inf_y:\n",
    "            return None\n",
    "        else:\n",
    "            sup  = Ponto2D(max_sup_x,max_sup_y)\n",
    "            inf  = Ponto2D(max_dir_inf_x,max_dir_inf_y)\n",
    "            \n",
    "            self.__esq_sup = sup\n",
    "            self.__dir_inf = inf\n",
    "           \n",
    "            return self.calcularArea()"
   ]
  },
  {
   "cell_type": "code",
   "execution_count": 10,
   "metadata": {},
   "outputs": [],
   "source": [
    "esq_sup = Ponto2D(4,0)\n",
    "dir_inf = Ponto2D(5,1)"
   ]
  },
  {
   "cell_type": "code",
   "execution_count": 11,
   "metadata": {},
   "outputs": [],
   "source": [
    "esq_sup2 = Ponto2D(4,0)\n",
    "dir_inf2 = Ponto2D(5,1)"
   ]
  },
  {
   "cell_type": "code",
   "execution_count": 13,
   "metadata": {},
   "outputs": [
    {
     "ename": "TypeError",
     "evalue": "'Ponto2D' object is not callable",
     "output_type": "error",
     "traceback": [
      "\u001b[1;31m---------------------------------------------------------------------------\u001b[0m",
      "\u001b[1;31mTypeError\u001b[0m                                 Traceback (most recent call last)",
      "\u001b[1;32m<ipython-input-13-061f9d64f8b7>\u001b[0m in \u001b[0;36m<module>\u001b[1;34m\u001b[0m\n\u001b[0;32m      1\u001b[0m \u001b[0mobj\u001b[0m \u001b[1;33m=\u001b[0m \u001b[0mRetangulo\u001b[0m\u001b[1;33m(\u001b[0m\u001b[0mesq_sup\u001b[0m\u001b[1;33m,\u001b[0m\u001b[0mdir_inf\u001b[0m\u001b[1;33m)\u001b[0m\u001b[1;33m\u001b[0m\u001b[1;33m\u001b[0m\u001b[0m\n\u001b[0;32m      2\u001b[0m \u001b[0moj2\u001b[0m \u001b[1;33m=\u001b[0m \u001b[0mRetangulo\u001b[0m\u001b[1;33m(\u001b[0m\u001b[0mesq_sup2\u001b[0m\u001b[1;33m,\u001b[0m\u001b[0mdir_inf2\u001b[0m\u001b[1;33m)\u001b[0m\u001b[1;33m\u001b[0m\u001b[1;33m\u001b[0m\u001b[0m\n\u001b[1;32m----> 3\u001b[1;33m \u001b[0mobj\u001b[0m\u001b[1;33m.\u001b[0m\u001b[0mset_dir_inf\u001b[0m\u001b[1;33m(\u001b[0m\u001b[0mesq_sup\u001b[0m\u001b[1;33m)\u001b[0m\u001b[1;33m\u001b[0m\u001b[1;33m\u001b[0m\u001b[0m\n\u001b[0m",
      "\u001b[1;31mTypeError\u001b[0m: 'Ponto2D' object is not callable"
     ]
    }
   ],
   "source": [
    "obj = Retangulo(esq_sup,dir_inf)\n",
    "oj2 = Retangulo(esq_sup2,dir_inf2)\n",
    "obj.set_dir_inf(esq_sup)"
   ]
  },
  {
   "cell_type": "code",
   "execution_count": 85,
   "metadata": {},
   "outputs": [
    {
     "data": {
      "text/plain": [
       "1.0"
      ]
     },
     "execution_count": 85,
     "metadata": {},
     "output_type": "execute_result"
    }
   ],
   "source": [
    "obj.width"
   ]
  },
  {
   "cell_type": "code",
   "execution_count": 86,
   "metadata": {},
   "outputs": [
    {
     "name": "stdout",
     "output_type": "stream",
     "text": [
      "4\n",
      "0\n",
      "5\n",
      "1\n",
      "1.0\n",
      "4\n",
      "0\n",
      "5\n",
      "1\n"
     ]
    },
    {
     "data": {
      "text/plain": [
       "1.0"
      ]
     },
     "execution_count": 86,
     "metadata": {},
     "output_type": "execute_result"
    }
   ],
   "source": [
    "obj.calcularIntersecao(oj2)"
   ]
  },
  {
   "cell_type": "code",
   "execution_count": 63,
   "metadata": {},
   "outputs": [
    {
     "data": {
      "text/plain": [
       "1.0"
      ]
     },
     "execution_count": 63,
     "metadata": {},
     "output_type": "execute_result"
    }
   ],
   "source": [
    "obj.calcularArea()"
   ]
  },
  {
   "cell_type": "code",
   "execution_count": null,
   "metadata": {},
   "outputs": [],
   "source": []
  }
 ],
 "metadata": {
  "kernelspec": {
   "display_name": "Python 3",
   "language": "python",
   "name": "python3"
  },
  "language_info": {
   "codemirror_mode": {
    "name": "ipython",
    "version": 3
   },
   "file_extension": ".py",
   "mimetype": "text/x-python",
   "name": "python",
   "nbconvert_exporter": "python",
   "pygments_lexer": "ipython3",
   "version": "3.8.5"
  }
 },
 "nbformat": 4,
 "nbformat_minor": 4
}
