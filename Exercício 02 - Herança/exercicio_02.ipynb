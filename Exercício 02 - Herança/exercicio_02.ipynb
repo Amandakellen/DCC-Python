{
 "cells": [
  {
   "cell_type": "markdown",
   "metadata": {},
   "source": [
    "Nesse exercício você deve criar uma classe Conta para representar uma conta bancária. Essa classe deve receber em seu método inicializador um único parâmetro numero (referente ao número da conta). Durante a instanciação, um atributo saldo deve ser inicializado com valor 0.0. Esses dois parâmetros devem ser privados. Além disso a classe Conta deve possuir dois métodos para a manipulação do saldo: depositar(valor) e sacar(valor). O saldo deve ser modificado exclusivamente por esses métodos, que são responsáveis por incrementar e decrementar o saldo atual, respectivamente.\n",
    "\n",
    "A classe Conta deve ser especializada em duas outras classes: ContaCorrente e ContaPoupanca.\n",
    "\n",
    "A classe ContaCorrente também em seu inicializador o parâmetro taxa (por exemplo, R$ 1,50). Esse atributo é utilizado em seu método específico cobrar_taxa(), que retira o valor da taxa do saldo atual.\n",
    "\n",
    "A classe ContaPoupanca também em seu inicializador o parâmetro juros (por exemplo, 0.05). Esse atributo é utilizado em seu método específico aplicar_juros(), que incrementa do saldo de acordo com o percentual.\n",
    "\n",
    "A seguir um exemplo de chamada:\n",
    "\n",
    "conta_corrente = ContaCorrente(1, 1.50)\n",
    "conta_corrente.depositar(10)\n",
    "conta_corrente.cobrar_taxa()"
   ]
  },
  {
   "cell_type": "code",
   "execution_count": 30,
   "metadata": {},
   "outputs": [],
   "source": [
    "class Conta:\n",
    "    def __init__(self,numero_conta):\n",
    "        self.__numero_conta = numero_conta\n",
    "        self.__saldo = 0.0\n",
    "        \n",
    "    @property\n",
    "    def numero_conta(self):\n",
    "        return self.__numero_conta\n",
    "    \n",
    "\n",
    "    @property\n",
    "    def saldo(self):\n",
    "        return self.__saldo\n",
    "    \n",
    "   \n",
    "    def depositar(self,valor):\n",
    "        self.__saldo = valor + self.__saldo\n",
    "        return self.__saldo\n",
    "    \n",
    "  \n",
    "    def sacar(self,valor):\n",
    "        self.__saldo = self.__saldo - valor\n",
    "        return self.__saldo\n",
    "  \n",
    "    \n",
    "class ContaCorrente(Conta):\n",
    "    def __init__(self, numero_conta,taxa):\n",
    "        self.taxa =  taxa\n",
    "        super().__init__(numero_conta)\n",
    "        \n",
    "    def cobrar_taxa(self):\n",
    "        self.sacar(self.taxa)\n",
    "\n",
    "class ContaPoupanca(Conta):\n",
    "    \n",
    "    def __init__(self,numero_conta,juros):\n",
    "        self.juros  =  juros\n",
    "        super().__init__(numero_conta)\n",
    "    \n",
    "    def aplicar_juros(self):\n",
    "        valor_juros = self.juros * self.saldo\n",
    "        self.depositar(valor_juros)"
   ]
  },
  {
   "cell_type": "code",
   "execution_count": 31,
   "metadata": {},
   "outputs": [],
   "source": [
    "conta_corrente = ContaCorrente(1, 1.50)\n",
    "conta_corrente.depositar(10)\n",
    "conta_corrente.cobrar_taxa()"
   ]
  },
  {
   "cell_type": "code",
   "execution_count": 32,
   "metadata": {},
   "outputs": [
    {
     "data": {
      "text/plain": [
       "8.5"
      ]
     },
     "execution_count": 32,
     "metadata": {},
     "output_type": "execute_result"
    }
   ],
   "source": [
    "conta_corrente.saldo"
   ]
  },
  {
   "cell_type": "code",
   "execution_count": 34,
   "metadata": {},
   "outputs": [],
   "source": [
    "conta_corrente = ContaPoupanca(1, 1.50)\n",
    "conta_corrente.depositar(10)\n",
    "conta_corrente.aplicar_juros()"
   ]
  },
  {
   "cell_type": "code",
   "execution_count": 35,
   "metadata": {},
   "outputs": [
    {
     "data": {
      "text/plain": [
       "25.0"
      ]
     },
     "execution_count": 35,
     "metadata": {},
     "output_type": "execute_result"
    }
   ],
   "source": [
    "conta_corrente.saldo\n"
   ]
  }
 ],
 "metadata": {
  "kernelspec": {
   "display_name": "Python 3",
   "language": "python",
   "name": "python3"
  },
  "language_info": {
   "codemirror_mode": {
    "name": "ipython",
    "version": 3
   },
   "file_extension": ".py",
   "mimetype": "text/x-python",
   "name": "python",
   "nbconvert_exporter": "python",
   "pygments_lexer": "ipython3",
   "version": "3.8.5"
  }
 },
 "nbformat": 4,
 "nbformat_minor": 4
}
