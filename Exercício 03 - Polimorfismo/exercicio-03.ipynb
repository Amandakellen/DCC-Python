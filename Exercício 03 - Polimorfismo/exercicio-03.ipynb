{
 "cells": [
  {
   "cell_type": "markdown",
   "metadata": {},
   "source": [
    "Implemente uma classe chamada CestaCompras para representar os itens de um cliente em um e-commerce. Essa classe deve possuir um dicionário chamado itens que guarda um determindo Item e a quantidade desse item na cesta. Essa classe deve ter os seguintes métodos públicos:\n",
    "\n",
    "1) adicionar_item(item, qtde): recebe um objeto do tipo Item e a quantidade a ser guardada.\n",
    "\n",
    "2) relatorio_final(): que imprime as seguintes informacões na tela:\n",
    "\n",
    "<valor_total_compra_desconto>\n",
    "\n",
    "<tipo_item, nome, quantidade, valor_unitario, total_sem_desconto, total_com_desconto>\n",
    "\n",
    "Onde:\n",
    "\n",
    "<valor_total_compra_desconto>: é o somatório de todos os itens já com o desconto aplicado\n",
    "\n",
    " <tipo_item>: Livro, Brinquedo, Eletronico\n",
    "\n",
    "<total_sem_desconto>: o somatorio daquele item especificamente, antes do desconto\n",
    "\n",
    "<total_com_desconto>: o somatorio daquele item especificamente, depois do desconto\n",
    "\n",
    "O Item recebe no método inicializador o nome, valor daquele item (que devem ser salvos em atributos privados). A classe Item deve ser especializada em três subclasses: Livro, Brinquedo, Eletronico. Cada classe dessa possui um determinado valor de desconto específico e constante sendo:\n",
    "\n",
    "Livro: 3%\n",
    "Brinquedo: 5%\n",
    "Eletronico: 8%\n",
    "Obs: Você pode implementar outros métodos que julgar necessários ou úteis."
   ]
  },
  {
   "cell_type": "code",
   "execution_count": 11,
   "metadata": {},
   "outputs": [],
   "source": [
    "from abc import ABC, abstractmethod\n",
    "\n",
    "class Item(ABC):\n",
    "    def __init__(self,nome,preco):\n",
    "        self.nome = nome\n",
    "        self.preco = preco\n",
    "                \n",
    "    \n",
    "    @abstractmethod\n",
    "    def desconto(self):\n",
    "        pass\n",
    "    \n",
    "    def get_valor_com_desconto(self,quantidade):\n",
    "         \n",
    "        total_s_desconto =  self.preco * quantidade\n",
    "        valor_c_desconto = total_s_desconto - total_s_desconto*self.desconto()\n",
    "\n",
    "        return valor_c_desconto\n",
    "\n",
    "class Livro(Item):\n",
    "    def __init__(self,nome,preco):\n",
    "        self.__desconto = 0.03\n",
    "        super().__init__(nome,preco)\n",
    "\n",
    "    def desconto(self):\n",
    "        return self.__desconto\n",
    "          \n",
    "    def __str__(self):\n",
    "        return \"Livro\"\n",
    "    \n",
    "class Brinquedo(Item):\n",
    "    def __init__(self,nome,preco):\n",
    "        self.__desconto = 0.05\n",
    "        super().__init__(nome,preco)\n",
    "\n",
    "    def desconto(self):\n",
    "        return self.__desconto\n",
    "    \n",
    "    def __str__(self):\n",
    "        return \"Brinquedo\"  \n",
    "\n",
    "class Eletronico(Item):\n",
    "    def __init__(self,nome,preco):\n",
    "        self.__desconto = 0.08\n",
    "        super().__init__(nome,preco)\n",
    "\n",
    "    def desconto(self):\n",
    "        return self.__desconto\n",
    "    def __str__(self):\n",
    "        return \"Eletronico\"     \n",
    "    \n",
    "class CestaCompras:\n",
    "    def __init__(self):\n",
    "        self.itens = {}\n",
    "        self.soma_total = 0.0\n",
    "        self.soma_com_desconto = 0.0\n",
    "        self.dados = {}\n",
    "        \n",
    "    def adicionar_item(self,item,quantidade):\n",
    "        self.itens[item] = quantidade\n",
    "\n",
    "    def soma_total_itens(self):\n",
    "        for item, qtde in self.itens.items():\n",
    "            valor_desconto  = item.get_valor_com_desconto(qtde)\n",
    "            self.soma_total = self.soma_total + valor_desconto\n",
    "        \n",
    "        self.soma_total =  round(self.soma_total,2)\n",
    "\n",
    "\n",
    "    def relatorio_final(self):\n",
    "        self.soma_total_itens()\n",
    "        print(self.soma_total)\n",
    "        for item, qtde in self.itens.items():\n",
    "            print(\"{}, {}, {}, \".format(item,\n",
    "                                        item.nome,\n",
    "                                        qtde,\n",
    "                                             \n",
    "                                             ),end=\"\")\n",
    "            print(\"%.2f, %.2f, %.2f\"%(item.preco,\n",
    "                          qtde*item.preco,\n",
    "                          item.get_valor_com_desconto(qtde)))\n",
    "              "
   ]
  },
  {
   "cell_type": "code",
   "execution_count": null,
   "metadata": {},
   "outputs": [],
   "source": []
  },
  {
   "cell_type": "code",
   "execution_count": 12,
   "metadata": {},
   "outputs": [
    {
     "name": "stdout",
     "output_type": "stream",
     "text": [
      "93.01\n",
      "Livro, Senhor dos Aneis, 3, 15.00, 45.00, 43.65\n",
      "Brinquedo, Carrinho, 4, 12.99, 51.96, 49.36\n"
     ]
    }
   ],
   "source": [
    "livro1 = Livro(\"Senhor dos Aneis\", 15.00)\n",
    "brinq1 = Brinquedo(\"Carrinho\", 12.99)\n",
    "\n",
    "cesta = CestaCompras()\n",
    "cesta.adicionar_item(livro1, 3)\n",
    "cesta.adicionar_item(brinq1, 4)\n",
    "\n",
    "cesta.relatorio_final()"
   ]
  },
  {
   "cell_type": "code",
   "execution_count": 19,
   "metadata": {},
   "outputs": [
    {
     "ename": "SyntaxError",
     "evalue": "invalid syntax (<ipython-input-19-a5e11fc112a0>, line 2)",
     "output_type": "error",
     "traceback": [
      "\u001b[1;36m  File \u001b[1;32m\"<ipython-input-19-a5e11fc112a0>\"\u001b[1;36m, line \u001b[1;32m2\u001b[0m\n\u001b[1;33m    Livro, Senhor dos Aneis, 3, 15.00, 45.00, 43.65\u001b[0m\n\u001b[1;37m                  ^\u001b[0m\n\u001b[1;31mSyntaxError\u001b[0m\u001b[1;31m:\u001b[0m invalid syntax\n"
     ]
    }
   ],
   "source": [
    "93.01\n",
    "Livro, Senhor dos Aneis, 3, 15.00, 45.00, 43.65\n",
    "Brinquedo, Carrinho, 4, 12.99, 51.96, 49.36"
   ]
  },
  {
   "cell_type": "code",
   "execution_count": 183,
   "metadata": {},
   "outputs": [
    {
     "name": "stdout",
     "output_type": "stream",
     "text": [
      "Livro hello\n"
     ]
    }
   ],
   "source": [
    "print(\"{} hello\".format(livro1))"
   ]
  },
  {
   "cell_type": "code",
   "execution_count": 4,
   "metadata": {},
   "outputs": [
    {
     "name": "stdout",
     "output_type": "stream",
     "text": [
      "teste\n",
      "oi\n"
     ]
    }
   ],
   "source": [
    "teste ={\"teste\":\"oi\"}\n",
    "for item, qtde in teste.items():\n",
    "    print(item)\n",
    "    print(qtde)"
   ]
  },
  {
   "cell_type": "code",
   "execution_count": null,
   "metadata": {},
   "outputs": [],
   "source": []
  }
 ],
 "metadata": {
  "kernelspec": {
   "display_name": "Python 3",
   "language": "python",
   "name": "python3"
  },
  "language_info": {
   "codemirror_mode": {
    "name": "ipython",
    "version": 3
   },
   "file_extension": ".py",
   "mimetype": "text/x-python",
   "name": "python",
   "nbconvert_exporter": "python",
   "pygments_lexer": "ipython3",
   "version": "3.8.5"
  }
 },
 "nbformat": 4,
 "nbformat_minor": 4
}
