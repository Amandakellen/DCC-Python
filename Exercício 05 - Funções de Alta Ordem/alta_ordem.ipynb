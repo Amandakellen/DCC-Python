{
 "cells": [
  {
   "cell_type": "markdown",
   "metadata": {},
   "source": [
    "As funções que precisam ser implementadas são as seguintes:\n",
    "\n",
    "* factAll(L): retorna uma nova lista com o fatorial de cada número em L\n",
    "* strAll(L): retorna uma nova lista com cada elemento de L convertido para uma string\n",
    "* incAll(L): retorna uma nova lista com cada elemento de L incrementado de 1\n",
    "* sqrAll(L): retorna uma nova lista com cada elemento de L elevado ao quadrado\n",
    "* isPrimeAll(L): retorna uma nova lista (de booleanos), em que a posição n é verdade se o elemento n de L for primo.\n",
    "* incAllN(L, N): retorna uma nova lista com cada elemento de L incrementado de N.\n",
    "* filterOdd(L): retorna uma nova lista somente com os números de L que são ímpares.\n",
    "* filterPositive(L): retorna uma nova lista somente com os números de L que são maiores que zero.\n",
    "* filterGtN(L, N): retorna uma nova lista somente com os números de L que são maiores que N.\n",
    "* filterPrimes(L): retorna uma nova lista somente com os números primos que estão em L."
   ]
  },
  {
   "cell_type": "code",
   "execution_count": 105,
   "metadata": {},
   "outputs": [],
   "source": [
    "def head(L):\n",
    "    return L[0]\n",
    " \n",
    "def tail(L):\n",
    "    return L[1]\n",
    "\n",
    "def py2ll(L):\n",
    "    if not L:\n",
    "        return None\n",
    "    else:\n",
    "        return (L[0], py2ll(L[1:]))\n",
    "\n",
    "def ll2py(L):\n",
    "    if not L:\n",
    "        return []\n",
    "    else:\n",
    "        return [head(L)] + ll2py(tail(L))\n",
    "\n",
    "def fact(N):\n",
    "    if N > 1:\n",
    "        return N * fact(N-1)\n",
    "    else:\n",
    "        return 1\n",
    "\n",
    "def prime(a):\n",
    "     return not (a < 2 or any(a % x == 0 for x in range(2, int(a ** 0.5) + 1)))\n",
    "\n",
    "def mapL(L, f):\n",
    "    if not L:\n",
    "        return None\n",
    "    else:\n",
    "        return (f(head(L)), mapL(tail(L), f))\n",
    "\n",
    "def factAll(L):\n",
    "    if not L:\n",
    "        return None\n",
    "    else:\n",
    "        return (mapL(L,fact))\n",
    "\n",
    "def strAll(L):\n",
    "    if not L:\n",
    "        return None\n",
    "    else:\n",
    "        return (mapL(L,str))\n",
    "def incAll(L):\n",
    "    if not L:\n",
    "        return None\n",
    "    else:\n",
    "        return (mapL(L,lambda N:N+1))\n",
    "\n",
    "def sqrAll(L):\n",
    "    if not L:\n",
    "        return None\n",
    "    else:\n",
    "        return (mapL(L,lambda N:N**2))\n",
    "\n",
    "def isPrimeAll(L):\n",
    "    if not L:\n",
    "        return None\n",
    "    else:\n",
    "        return (mapL(L,prime))\n",
    "\n",
    "def incAllN(L, N):\n",
    "    if not L:\n",
    "        return None\n",
    "    else:\n",
    "        return (mapL(L,lambda x: x + N))\n",
    "    \n",
    "\n",
    "def filterL(L, f):\n",
    "    if not L:\n",
    "        return None\n",
    "    else:\n",
    "        T = filterL(tail(L), f)\n",
    "        H = head(L)\n",
    "        return (H, T) if f(H) else T\n",
    "def impar(L):\n",
    "    lista = ll2py(L)\n",
    "    aux = []\n",
    "    for i in lista:\n",
    "        if i%2 != 0 :\n",
    "            aux.append(i)\n",
    "    return (py2ll(aux))\n",
    "def positivo(L):\n",
    "    lista = ll2py(L)\n",
    "    aux = []\n",
    "    for i in lista:\n",
    "        if i >0 :\n",
    "            aux.append(i)\n",
    "    return (py2ll(aux))   \n",
    "def filterOdd(L):\n",
    "    if not L:\n",
    "        return None\n",
    "    else:\n",
    "        return impar(L)\n",
    "    \n",
    "def filterPositive(L):\n",
    "    if not L:\n",
    "        return None\n",
    "    else:\n",
    "        return positivo(L)\n",
    "    \n",
    "def maiores(L,N):\n",
    "    lista = ll2py(L)\n",
    "    aux = []\n",
    "    for i in lista:\n",
    "        if i > N :\n",
    "            aux.append(i)\n",
    "    return (py2ll(aux))  \n",
    "\n",
    "def filterGtN(L, N):\n",
    "    if not L:\n",
    "        return None\n",
    "    else:\n",
    "        return maiores(L,N)\n",
    "\n",
    "def lista_primos(L):\n",
    "    primo = mapL(L,prime)\n",
    "    lista = ll2py(primo)\n",
    "    lista_aux = ll2py(L)\n",
    "    aux = []\n",
    "    j =  0 \n",
    "    for i in lista:\n",
    "        if i:\n",
    "            aux.append(lista_aux[j])\n",
    "        j = j+1\n",
    "    return (py2ll(aux))\n",
    "def filterPrimes(L):\n",
    "    if not L:\n",
    "        return None\n",
    "    else:\n",
    "        return lista_primos(L)"
   ]
  },
  {
   "cell_type": "code",
   "execution_count": 106,
   "metadata": {},
   "outputs": [],
   "source": [
    "L = py2ll(range(1, 10))"
   ]
  },
  {
   "cell_type": "code",
   "execution_count": 107,
   "metadata": {},
   "outputs": [
    {
     "data": {
      "text/plain": [
       "(1, (2, (3, (4, (5, (6, (7, (8, (9, None)))))))))"
      ]
     },
     "execution_count": 107,
     "metadata": {},
     "output_type": "execute_result"
    }
   ],
   "source": [
    "L"
   ]
  },
  {
   "cell_type": "code",
   "execution_count": 108,
   "metadata": {},
   "outputs": [
    {
     "data": {
      "text/plain": [
       "(2, (3, (5, (7, None))))"
      ]
     },
     "execution_count": 108,
     "metadata": {},
     "output_type": "execute_result"
    }
   ],
   "source": [
    "filterPrimes(L)"
   ]
  },
  {
   "cell_type": "code",
   "execution_count": 93,
   "metadata": {},
   "outputs": [
    {
     "data": {
      "text/plain": [
       "(False,\n",
       " (True, (True, (False, (True, (False, (True, (False, (False, None)))))))))"
      ]
     },
     "execution_count": 93,
     "metadata": {},
     "output_type": "execute_result"
    }
   ],
   "source": [
    "mapL(L,prime)"
   ]
  },
  {
   "cell_type": "code",
   "execution_count": 78,
   "metadata": {},
   "outputs": [
    {
     "data": {
      "text/plain": [
       "[1, 2, 3, 4, 5, 6, 7, 8, 9]"
      ]
     },
     "execution_count": 78,
     "metadata": {},
     "output_type": "execute_result"
    }
   ],
   "source": [
    "ll2py(L)"
   ]
  },
  {
   "cell_type": "code",
   "execution_count": 135,
   "metadata": {},
   "outputs": [],
   "source": [
    "z= filter(lambda N:N**2,ll2py(L))"
   ]
  },
  {
   "cell_type": "code",
   "execution_count": 136,
   "metadata": {},
   "outputs": [
    {
     "data": {
      "text/plain": [
       "filter"
      ]
     },
     "execution_count": 136,
     "metadata": {},
     "output_type": "execute_result"
    }
   ],
   "source": [
    "type(z)"
   ]
  },
  {
   "cell_type": "code",
   "execution_count": 137,
   "metadata": {},
   "outputs": [
    {
     "data": {
      "text/plain": [
       "(1, 2, 3, 4, 5, 6, 7, 8, 9)"
      ]
     },
     "execution_count": 137,
     "metadata": {},
     "output_type": "execute_result"
    }
   ],
   "source": [
    "tuple(z)"
   ]
  },
  {
   "cell_type": "code",
   "execution_count": null,
   "metadata": {},
   "outputs": [],
   "source": []
  }
 ],
 "metadata": {
  "kernelspec": {
   "display_name": "Python 3",
   "language": "python",
   "name": "python3"
  },
  "language_info": {
   "codemirror_mode": {
    "name": "ipython",
    "version": 3
   },
   "file_extension": ".py",
   "mimetype": "text/x-python",
   "name": "python",
   "nbconvert_exporter": "python",
   "pygments_lexer": "ipython3",
   "version": "3.8.5"
  }
 },
 "nbformat": 4,
 "nbformat_minor": 4
}
