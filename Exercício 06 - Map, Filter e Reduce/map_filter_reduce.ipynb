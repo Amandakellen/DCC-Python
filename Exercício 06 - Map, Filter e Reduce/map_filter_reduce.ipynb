{
 "cells": [
  {
   "cell_type": "markdown",
   "metadata": {},
   "source": [
    "Neste exercício, você deverá completar algumas funções disponíveis em um arquivo todo.py. O arquivo possui 7 funções que precisam ser completadas. Essas funções possuem somente um comentário \"TODO\" em seu corpo e retornam None, ou algum valor default. Seu código será testado por um arquivo chamado Driver.py. Você não precisa se preocupar com esse arquivo; ele já está feito para você. Contudo, note que ele importa todo, então o nome do arquivo enviado deve ser este (com a extensão .py). \n",
    "\n",
    "As funções que precisam ser implementadas possuem comentários no arquivo todo.py, que explicam o que cada uma delas deve fazer"
   ]
  },
  {
   "cell_type": "code",
   "execution_count": 35,
   "metadata": {},
   "outputs": [],
   "source": []
  },
  {
   "cell_type": "code",
   "execution_count": 15,
   "metadata": {},
   "outputs": [],
   "source": [
    "\n",
    "from functools import reduce\n",
    "def firstChars(L):\n",
    "    \"\"\" Maps strings in L to a list with the first character of each string.\n",
    "    For instance:\n",
    "    firstChars(['python', 'is', 'pythy']) == ['p', 'i', 'p']\n",
    "    \"\"\"\n",
    "    return map(lambda x:x[0],L)\n",
    "\n",
    "def sum(L):\n",
    "    \"\"\" Sums the elements in L \"\"\"\n",
    "    op = lambda acc,b: acc + b\n",
    "    return reduce(op, L,0)\n",
    "\n",
    "\n",
    "\n",
    "def avg(L):\n",
    "    \"\"\" Returns the average of the elements in L \"\"\"\n",
    "    avg = reduce(lambda x, y: x + y, L) / len(L)\n",
    "    return int(avg)\n",
    "\n",
    "def maxString(L):\n",
    "    \"\"\" Retorna a maior string dentre as strings em L.\n",
    "    Por exemplo: maxString(['python', 'is', 'pythy']) == 'python'\n",
    "    Se houver empate, retorna a primeira string encontrada.\n",
    "    \"\"\"\n",
    "    return reduce(lambda x, y: x if (x>y) else y, L)\n",
    "\n",
    "def add2Dict(D, N, S):\n",
    "    \"\"\" Insere a string S na lista associada ao inteiro N dentro\n",
    "    do dicionario D.\n",
    "    Por exemplo, se D = {1: ['b'], 2: ['xd'], 3: ['abc']}, entao,\n",
    "    add2Dict(D, 2, 'ww') produz o novo dicionario:\n",
    "    {1: ['b'], 2: ['xd', 'ww'], 3: ['abc']}\n",
    "    Voce pode usar essa funcao para completar buildLenFreq\n",
    "    \"\"\"\n",
    "    D[N] = D[N] + [S] if N in D else [S]\n",
    "    return D\n",
    "\n",
    "def buildLenFreq(L):\n",
    "    \"\"\" Esta funcao constroi um dicionario que associa inteiros a listas com\n",
    "    palavras daquele tamanho. Por exemplo:\n",
    "    ins(['abc', 'xd', 'b', 'xxx']) = {1: ['b'], 2: ['xd'], 3: ['abc', 'xxx']}\n",
    "    \"\"\"\n",
    "    Dict = {}\n",
    "    for i in L:\n",
    "        add2Dict(Dict, len(i), i)\n",
    "    return Dict\n",
    "\n",
    "def incValue(D, N):\n",
    "    \"\"\"Esta funcao incrementa o valor associado a chave N dentro do dicionario\n",
    "    D. Por exemplo, se D = {1: 2, 2: 4, 3: 11}, entao\n",
    "    Voce pode usar essa funcao para completar countFirsts\n",
    "    \"\"\"\n",
    "    D[N] = D[N] + 1 if N in D else 1\n",
    "    return D\n",
    "\n",
    "def countFirsts(L):\n",
    "    \"\"\" Conta o numero de ocorrencias do primeiro caracter de cada string em L.\n",
    "    Por exemplo, countFirsts(['python', 'is', 'pythy']) === {'i': 1, 'p': 2}\n",
    "    Note que essa funcao retorna um dicionario com cada caracter associada ao\n",
    "    numero de strings que comecam com aquele caracter.\n",
    "    \"\"\"\n",
    "    Dict = {}\n",
    "    for i in L:\n",
    "        incValue(Dict,i[0])\n",
    "    return Dict\n",
    "\n",
    "def mostCommonFirstChar(L):\n",
    "    \"\"\" Retorna a letra mais comum entre as primeiras letras de strings em L.\n",
    "    Por exemplo:\n",
    "    mostCommonFirstChar(['python', 'is', 'pythy']) === 'p'\n",
    "    \"\"\"\n",
    "    maior = None\n",
    "    letra = None\n",
    "    dicionario = countFirsts(L)\n",
    "    for i in dicionario.keys():\n",
    "        if maior:\n",
    "            if maior > dicionario[i]:\n",
    "                pass\n",
    "            else:\n",
    "                maior = dicionario[i]\n",
    "                letra = i \n",
    "        else:\n",
    "            maior = dicionario[i]\n",
    "            letra = i \n",
    "    return letra"
   ]
  },
  {
   "cell_type": "code",
   "execution_count": 16,
   "metadata": {},
   "outputs": [],
   "source": [
    "L0 = ['amar', 'o', 'estranho', 'deixa', 'confuso', 'este', 'coracao']\n",
    "L1 = [1, 2, 3]"
   ]
  },
  {
   "cell_type": "code",
   "execution_count": 17,
   "metadata": {},
   "outputs": [
    {
     "data": {
      "text/plain": [
       "'c'"
      ]
     },
     "execution_count": 17,
     "metadata": {},
     "output_type": "execute_result"
    }
   ],
   "source": [
    "mostCommonFirstChar(L0)"
   ]
  },
  {
   "cell_type": "code",
   "execution_count": 5,
   "metadata": {},
   "outputs": [
    {
     "data": {
      "text/plain": [
       "14"
      ]
     },
     "execution_count": 5,
     "metadata": {},
     "output_type": "execute_result"
    }
   ],
   "source": [
    "sum(map(lambda i: i ** 2, L1))"
   ]
  },
  {
   "cell_type": "code",
   "execution_count": null,
   "metadata": {},
   "outputs": [],
   "source": []
  },
  {
   "cell_type": "code",
   "execution_count": null,
   "metadata": {},
   "outputs": [],
   "source": []
  }
 ],
 "metadata": {
  "kernelspec": {
   "display_name": "Python 3",
   "language": "python",
   "name": "python3"
  },
  "language_info": {
   "codemirror_mode": {
    "name": "ipython",
    "version": 3
   },
   "file_extension": ".py",
   "mimetype": "text/x-python",
   "name": "python",
   "nbconvert_exporter": "python",
   "pygments_lexer": "ipython3",
   "version": "3.8.5"
  }
 },
 "nbformat": 4,
 "nbformat_minor": 4
}
