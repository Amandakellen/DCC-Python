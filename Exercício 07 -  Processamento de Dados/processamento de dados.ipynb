{
 "cells": [
  {
   "cell_type": "code",
   "execution_count": 24,
   "metadata": {},
   "outputs": [],
   "source": [
    "\n",
    "from functools import reduce\n",
    "def lastNames(L):\n",
    "    \"\"\"Mapeia uma lista de nomes para o ultimo nome de cada item.\n",
    "    Por exemplo, seja:\n",
    "    L = [['Antonio', 'Franco'], ['Caius', 'Vitelus'], ['Cristovao', 'Buarque']]\n",
    "    Entao lastNames(L) == ['Franco', 'Vitelus', 'Buarque']\n",
    "    \"\"\"\n",
    "    return map(lambda x:x.pop(),L)\n",
    "\n",
    "def citations(L):\n",
    "    \"\"\"Mapeia uma lista de nomes para a primeira letra mais sobrenome.\n",
    "    Por exemplo, seja:\n",
    "    L = [['Antonio', 'Franco'], ['Caius', 'Vitelus'], ['Cristovao', 'Buarque']]\n",
    "    entao citations(L) = ['A. Franco', 'C. Vitelus', 'C. Buarque']\n",
    "    Note que a primeira letra precisa estar capitalizada.\n",
    "    \"\"\"\n",
    "    \n",
    "    return map(lambda x:x[0][0] + \". \" + x.pop(),L)\n",
    "\n",
    "def fullCitations(L):\n",
    "    \"\"\"Mapeia uma lista de nomes para as iniciais mais o ultimo nome.\n",
    "    Por exemplo, seja:\n",
    "    L = [\n",
    "        ['Antonio', 'Franco', 'Molina'],\n",
    "        ['Caius', 'vitelus', 'Aquarius'],\n",
    "        ['cristovao', 'buarque', 'Holanda']]\n",
    "    entao fullCitations(L) = ['A. F. Molina', 'C. V. Aquarius', 'C. B. Holanda']\n",
    "    Note que as iniciais precisam estar capitalizada.\n",
    "    \"\"\"\n",
    "    return map(lambda x:x[0][0] + \". \"+ x[1][0]+ \". \" + x.pop(),L)"
   ]
  },
  {
   "cell_type": "code",
   "execution_count": 25,
   "metadata": {},
   "outputs": [],
   "source": [
    "L = [['Antonio', 'Franco'], ['Caius', 'Vitelus'], ['Cristovao', 'Buarque']]"
   ]
  },
  {
   "cell_type": "code",
   "execution_count": 26,
   "metadata": {},
   "outputs": [
    {
     "data": {
      "text/plain": [
       "['A. F. Franco', 'C. V. Vitelus', 'C. B. Buarque']"
      ]
     },
     "execution_count": 26,
     "metadata": {},
     "output_type": "execute_result"
    }
   ],
   "source": [
    "list(fullCitations(L))"
   ]
  },
  {
   "cell_type": "code",
   "execution_count": null,
   "metadata": {},
   "outputs": [],
   "source": []
  }
 ],
 "metadata": {
  "kernelspec": {
   "display_name": "Python 3",
   "language": "python",
   "name": "python3"
  },
  "language_info": {
   "codemirror_mode": {
    "name": "ipython",
    "version": 3
   },
   "file_extension": ".py",
   "mimetype": "text/x-python",
   "name": "python",
   "nbconvert_exporter": "python",
   "pygments_lexer": "ipython3",
   "version": "3.8.5"
  }
 },
 "nbformat": 4,
 "nbformat_minor": 4
}
