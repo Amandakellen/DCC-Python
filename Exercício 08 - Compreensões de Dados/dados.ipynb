{
 "cells": [
  {
   "cell_type": "code",
   "execution_count": 43,
   "metadata": {},
   "outputs": [],
   "source": [
    "from functools import reduce\n",
    "\n",
    "def delInitials(L):\n",
    "    \"\"\"Esta funcao recebe uma lista de strings L, e retorna uma string S.\n",
    "    S contem os elementos de L que possuem mais de um caracter, sempre com a\n",
    "    primeira letra maiuscula. Ex.:\n",
    "    delInitials(['Fer', 'mag', 'Q', 'pereira']) = 'Fer, Mag, Pereira'\n",
    "    \"\"\"\n",
    "    return [i.capitalize() for i in L if len(i)>1 ]\n",
    "\n",
    "def everyOccurrence(S, Q):\n",
    "    \"\"\"Esta funcao retorna uma lista L formada pelos indices de caracteres na\n",
    "    string S que existem tambem na string Q. Ex.:\n",
    "    everyOccurrence('Fernando', 'abcde') == [1, 4, 6]\n",
    "    everyOccurrence('xaxbxaxyza', 'abcde') == [1, 3, 5, 9]\n",
    "    Para resolver esse exercicio, voce pode usar a funcao enumerate, ex.:\n",
    "    [(a, b) for a, b in enumerate('abc')] == [(0, 'a'), (1, 'b'), (2, 'c')]\n",
    "    Outra dica eh usar combinacoes de 'for' em compreencoes de lista, ex.:\n",
    "    [(a, b) for a in 'xyz' for b in [1, 2]] ==\n",
    "    [('x', 1), ('x', 2), ('y', 1), ('y', 2), ('z', 1), ('z', 2)]\n",
    "    \"\"\"\n",
    "    # TODO\n",
    "\n",
    "    lista = []\n",
    "    for count, value in enumerate(S):\n",
    "        if value in Q:\n",
    "            lista.append(count)\n",
    "       \n",
    "            \n",
    "    return lista\n",
    "\n",
    "def factors(N):\n",
    "    \"\"\"Retorna uma lista com os divisores do numero N, exceto 1 e N.\n",
    "    Exemplos:\n",
    "    factors(6) == [2, 3]\n",
    "    factors(10) == [2, 5]\n",
    "    factors(12) == [2, 3, 4, 6]\n",
    "    factors(28) == [2, 4, 7, 14]\n",
    "    \"\"\"\n",
    "    lista = []\n",
    "    for i in range(2,N):\n",
    "        if N%i == 0:\n",
    "            lista.append(i)\n",
    "    return lista\n",
    "\n",
    "import operator\n",
    "def isPerfect(N):\n",
    "    \"\"\"N eh perfeito se a soma de seus fatores (exceto ele mesmo) eh N.\n",
    "    obs.: se for utilizar \"factors\" para resolver esse exercicio, lembre-se,\n",
    "    que aquela funcao nao retorna o '1' como fator.\n",
    "    Exemplos:\n",
    "    isPerfect(6) == True\n",
    "    isPerfect(10) == False\n",
    "    isPerfect(12) == False\n",
    "    isPerfect(28) == True\n",
    "    \"\"\"\n",
    "    fatores = factors(N)\n",
    "    soma = 1\n",
    "    for i in fatores:\n",
    "        soma = soma + i\n",
    "    if soma == N:\n",
    "        return True\n",
    "    else:\n",
    "        return False\n",
    "    "
   ]
  },
  {
   "cell_type": "code",
   "execution_count": 44,
   "metadata": {},
   "outputs": [
    {
     "data": {
      "text/plain": [
       "True"
      ]
     },
     "execution_count": 44,
     "metadata": {},
     "output_type": "execute_result"
    }
   ],
   "source": [
    "isPerfect(28)"
   ]
  },
  {
   "cell_type": "code",
   "execution_count": 9,
   "metadata": {},
   "outputs": [
    {
     "name": "stdout",
     "output_type": "stream",
     "text": [
      "0 F\n",
      "1 e\n",
      "2 r\n",
      "3 n\n",
      "4 a\n",
      "5 n\n",
      "6 d\n",
      "7 o\n"
     ]
    },
    {
     "data": {
      "text/plain": [
       "[1, 4, 7]"
      ]
     },
     "execution_count": 9,
     "metadata": {},
     "output_type": "execute_result"
    }
   ],
   "source": [
    "L = 'Fernando'\n",
    "Q= 'aeiou'\n",
    "lista = []\n",
    "for count, value in enumerate(L):\n",
    "    if value in Q:\n",
    "        lista.append(count)\n",
    "    print(count, value)\n",
    "lista"
   ]
  },
  {
   "cell_type": "code",
   "execution_count": null,
   "metadata": {},
   "outputs": [],
   "source": []
  }
 ],
 "metadata": {
  "kernelspec": {
   "display_name": "Python 3",
   "language": "python",
   "name": "python3"
  },
  "language_info": {
   "codemirror_mode": {
    "name": "ipython",
    "version": 3
   },
   "file_extension": ".py",
   "mimetype": "text/x-python",
   "name": "python",
   "nbconvert_exporter": "python",
   "pygments_lexer": "ipython3",
   "version": "3.8.5"
  }
 },
 "nbformat": 4,
 "nbformat_minor": 4
}
