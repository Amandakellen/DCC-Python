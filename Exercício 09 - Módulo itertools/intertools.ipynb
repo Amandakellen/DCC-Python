{
 "cells": [
  {
   "cell_type": "code",
   "execution_count": 35,
   "metadata": {},
   "outputs": [],
   "source": [
    "# Procure usar o pacate itertools para resolver os quatro exercicios deste\n",
    "# VPL. Embora seja possivel resolver os exercicios sem itertools, este modulo\n",
    "# facilita a resolucao das questoes (e exercita os conceitos aprendidos no\n",
    "# curso).\n",
    "from itertools import *\n",
    "\n",
    "# The list of week days:\n",
    "dias = [\"Seg\", \"Ter\", \"Qua\", \"Qui\", \"Sex\", \"Sab\", \"Dom\"]\n",
    "\n",
    "# The list of possible shifts: Day or Night.\n",
    "periodos = [\"D\", \"N\"]\n",
    "\n",
    "def buildTurns(profs):\n",
    "    \"\"\"Esta funcao recebe uma lista profs de profissionais, e constroi uma\n",
    "    lista de tuplas. Cada tupla possui quatro elementos:\n",
    "    - Um dia da semana;\n",
    "    - Um periodo de trabalho (dia ou noite);\n",
    "    - Um nome de profissional\n",
    "    - Um indice indicando qual eh aquele turno. O primeiro turno (Seg/D) possui\n",
    "    indice 1. O segundo turno (Seg/N) possui indice 2, o terceiro turno (Ter/D)\n",
    "    possui indice 3, e assim por diante.\n",
    "    \"\"\"\n",
    "    turns = product(dias, periodos)\n",
    "    tXprof = zip(turns, cycle(profs), count(1))\n",
    "    return ([a, b, c, d] for (a, b), c, d in tXprof)\n",
    "\n",
    "def printCSV(profs):\n",
    "    \"\"\"Esta funcao recebe uma lista de profissionais, e imprime uma tabela\n",
    "    CSV com os turnos, usando as colunas: indice, dia, periodo e profissional:\n",
    "    \"\"\"\n",
    "    print(\"indice, dia, periodo, profissional\")\n",
    "    # TODO: imprima o resto do arquivo CSV aqui. Esta rotina devera retornar\n",
    "    # a string 'fim'. Assim, nao altere o comando de retorno. Insira, logo\n",
    "    # apos esse comentario, codigo para construir a lista de turnos, e\n",
    "    # imprimir a tabela CSV.\n",
    "    for (a, b, c,d) in buildTurns(profs):\n",
    "        print(\"%s, %s, %s, %s\" %(d, a, b,c))\n",
    "    return \"fim\"\n",
    "    \n",
    "\n",
    "def firstDay(profs, prof):\n",
    "    \"\"\"Esta funcao imprime o primeiro dia em que trabalha o profissional 'prof'.\n",
    "    Caso 'prof' nao esteja presente na lista profs, ou nao exista em um turno\n",
    "    valido, a funcao precisa retornar a string 'Inexistente'\n",
    "    \"\"\"\n",
    "    lista = []\n",
    "    for (a, b, c,d) in buildTurns(profs):\n",
    "        if c == prof:\n",
    "            lista.append(a)\n",
    "    if not lista:\n",
    "        return 'Inexistente'\n",
    "    else:\n",
    "        return lista[0]\n",
    "def countTurns(profs, prof):\n",
    "    \"\"\"Esta funcao retorna o numero de turnos em que trabalha o profissional\n",
    "    'prof'. Caso 'prof' nao trabalhe em algum turno, entao a funcao retorna\n",
    "    zero.\n",
    "    \"\"\"\n",
    "    contador = 0\n",
    "    for (a, b, c,d) in buildTurns(profs):\n",
    "        if c == prof:\n",
    "            contador = contador +1\n",
    "    return contador\n",
    "\n",
    "def payTurns(profs, prof):\n",
    "    \"\"\"Esta funcao retorna o salario semanal de um profissional, assumindo que\n",
    "    cada turno diurno lhe paga 1000 e cada turno noturno lhe paga 1333.\n",
    "    Caso 'prof' nao trabalhe em algum turno, a funcao deve retornar zero.\n",
    "    \"\"\"\n",
    "    valor = 0 \n",
    "    for (a, b, c,d) in buildTurns(profs):\n",
    "        if c == prof:\n",
    "            if b == 'D':\n",
    "                valor = valor + 1000\n",
    "            else:\n",
    "                valor = valor + 1333\n",
    "    return valor"
   ]
  },
  {
   "cell_type": "code",
   "execution_count": 31,
   "metadata": {},
   "outputs": [
    {
     "data": {
      "text/plain": [
       "[2, 1, 1]"
      ]
     },
     "execution_count": 31,
     "metadata": {},
     "output_type": "execute_result"
    }
   ],
   "source": [
    " list([len(list(group)) for key, group in groupby(['Ana','Ana', 'Bruno', 'Camila'])])"
   ]
  },
  {
   "cell_type": "code",
   "execution_count": 33,
   "metadata": {},
   "outputs": [
    {
     "name": "stdout",
     "output_type": "stream",
     "text": [
      "Ana\n",
      "1\n",
      "Bruno\n",
      "1\n",
      "Camila\n",
      "1\n",
      "Ana\n",
      "1\n"
     ]
    }
   ],
   "source": [
    "for key, group in groupby(['Ana', 'Bruno', 'Camila','Ana']):\n",
    "    print(key)\n",
    "    print(len(list(group))) "
   ]
  },
  {
   "cell_type": "code",
   "execution_count": 21,
   "metadata": {},
   "outputs": [
    {
     "data": {
      "text/plain": [
       "'Seg'"
      ]
     },
     "execution_count": 21,
     "metadata": {},
     "output_type": "execute_result"
    }
   ],
   "source": [
    "firstDay(['Ana', 'Bruno', 'Camila'], 'Ana')"
   ]
  },
  {
   "cell_type": "code",
   "execution_count": 3,
   "metadata": {},
   "outputs": [
    {
     "data": {
      "text/plain": [
       "[['Ter', 'D', 'Ana', 3],\n",
       " ['Ter', 'N', 'Bruno', 4],\n",
       " ['Qua', 'D', 'Ana', 5],\n",
       " ['Qua', 'N', 'Bruno', 6],\n",
       " ['Qui', 'D', 'Ana', 7],\n",
       " ['Qui', 'N', 'Bruno', 8],\n",
       " ['Sex', 'D', 'Ana', 9],\n",
       " ['Sex', 'N', 'Bruno', 10],\n",
       " ['Sab', 'D', 'Ana', 11],\n",
       " ['Sab', 'N', 'Bruno', 12],\n",
       " ['Dom', 'D', 'Ana', 13],\n",
       " ['Dom', 'N', 'Bruno', 14]]"
      ]
     },
     "execution_count": 3,
     "metadata": {},
     "output_type": "execute_result"
    }
   ],
   "source": [
    "z = buildTurns(['Ana', 'Bruno'])\n",
    "next(z)\n",
    "next(z)\n",
    "list(z)"
   ]
  },
  {
   "cell_type": "code",
   "execution_count": null,
   "metadata": {},
   "outputs": [],
   "source": []
  }
 ],
 "metadata": {
  "kernelspec": {
   "display_name": "Python 3",
   "language": "python",
   "name": "python3"
  },
  "language_info": {
   "codemirror_mode": {
    "name": "ipython",
    "version": 3
   },
   "file_extension": ".py",
   "mimetype": "text/x-python",
   "name": "python",
   "nbconvert_exporter": "python",
   "pygments_lexer": "ipython3",
   "version": "3.8.5"
  }
 },
 "nbformat": 4,
 "nbformat_minor": 4
}
