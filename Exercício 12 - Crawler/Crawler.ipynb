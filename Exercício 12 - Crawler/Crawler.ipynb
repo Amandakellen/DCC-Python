{
 "cells": [
  {
   "cell_type": "code",
   "execution_count": 16,
   "metadata": {},
   "outputs": [],
   "source": [
    "# -*- coding: utf8\n",
    "\n",
    "\n",
    "import threading\n",
    "import requests\n",
    "import os\n",
    "import glob\n",
    "\n",
    "\n",
    "class Worker(threading.Thread):\n",
    "    def __init__(self, id_, **kwargs):\n",
    "        super(Worker, self).__init__(**kwargs)\n",
    "        self._id = id_ # isso é o id do livro\n",
    "        self.linhas = 0\n",
    "        \n",
    "    def run(self):\n",
    "        # Use requests.get para baixar um livro\n",
    "        # A linha abaixo gera o link para um livro\n",
    "        # id_ = 1182\n",
    "        # 'http://www.gutenberg.org/files/{}/{}-0.txt'.format(id_, id_)\n",
    "        # USE HTTP PARA FUNCIONAR NO MOODLE, NÃO HTTPS\n",
    "        url = 'http://www.gutenberg.org/files/{}/{}-0.txt'.format(self._id , self._id)\n",
    "        result = requests.get(url)\n",
    "        texto = result.text\n",
    "        lista = texto.split('\\n')\n",
    "        \n",
    "        #self.linhas = len(lista)\n",
    "        #self.linhas = 0\n",
    "        #return len(lista)\n",
    "        for i in lista:\n",
    "            if i:\n",
    "                self.linhas = self.linhas + 1\n",
    "            else:\n",
    "                pass\n",
    "\n",
    "    def get_result(self):\n",
    "        return self.linhas\n",
    "\n",
    "def crawler():\n",
    "    # Dispara uma thread por id do arquivo\n",
    "    soma = 0 \n",
    "    tamanho = 0\n",
    "    threads = []\n",
    "    pasta = os.path.join('.','dados','*.txt')\n",
    "    lista =  glob.glob(pasta)\n",
    "    with open(lista[0], encoding='utf-8') as input_file:\n",
    "        for line in input_file:\n",
    "            l =  line.split()\n",
    "            threads.append(Worker(l[0]))\n",
    "            tamanho = tamanho +1\n",
    "    for i in range(tamanho):threads[i].start()\n",
    "    for i in range(tamanho):threads[i].join()\n",
    "    for i in range(tamanho):\n",
    "        soma = threads[i].get_result() + soma\n",
    "    return soma"
   ]
  },
  {
   "cell_type": "code",
   "execution_count": 17,
   "metadata": {},
   "outputs": [
    {
     "data": {
      "text/plain": [
       "'.\\\\dados\\\\ids.txt'"
      ]
     },
     "execution_count": 17,
     "metadata": {},
     "output_type": "execute_result"
    }
   ],
   "source": [
    "pasta = os.path.join('.','dados','*.txt')\n",
    "glob.glob(pasta)[0]"
   ]
  },
  {
   "cell_type": "code",
   "execution_count": 6,
   "metadata": {},
   "outputs": [
    {
     "data": {
      "text/plain": [
       "100267"
      ]
     },
     "execution_count": 6,
     "metadata": {},
     "output_type": "execute_result"
    }
   ],
   "source": [
    "f1 = Worker(10)\n",
    "f1.start()\n",
    "f1.join()\n",
    "f1.get_result()\n"
   ]
  },
  {
   "cell_type": "code",
   "execution_count": 18,
   "metadata": {},
   "outputs": [
    {
     "data": {
      "text/plain": [
       "330615"
      ]
     },
     "execution_count": 18,
     "metadata": {},
     "output_type": "execute_result"
    }
   ],
   "source": [
    "crawler()"
   ]
  },
  {
   "cell_type": "code",
   "execution_count": null,
   "metadata": {},
   "outputs": [],
   "source": []
  },
  {
   "cell_type": "code",
   "execution_count": null,
   "metadata": {},
   "outputs": [],
   "source": []
  }
 ],
 "metadata": {
  "kernelspec": {
   "display_name": "Python 3",
   "language": "python",
   "name": "python3"
  },
  "language_info": {
   "codemirror_mode": {
    "name": "ipython",
    "version": 3
   },
   "file_extension": ".py",
   "mimetype": "text/x-python",
   "name": "python",
   "nbconvert_exporter": "python",
   "pygments_lexer": "ipython3",
   "version": "3.8.5"
  }
 },
 "nbformat": 4,
 "nbformat_minor": 4
}
